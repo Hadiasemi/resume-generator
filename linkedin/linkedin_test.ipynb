{
 "cells": [
  {
   "cell_type": "code",
   "execution_count": 1,
   "metadata": {},
   "outputs": [],
   "source": [
    "from linkedin_scraper import Person, actions, Company\n",
    "from selenium import webdriver"
   ]
  },
  {
   "cell_type": "code",
   "execution_count": 2,
   "metadata": {},
   "outputs": [],
   "source": [
    "driver = webdriver.Chrome()"
   ]
  },
  {
   "cell_type": "code",
   "execution_count": 3,
   "metadata": {},
   "outputs": [],
   "source": [
    "import random\n",
    "password = \"qwertyuiop123!@#$%!a\"\n",
    "with open(\"gmails.txt\", \"r\") as f:\n",
    "    gmails = f.readlines()\n",
    "\n",
    "email = random.choice(gmails)"
   ]
  },
  {
   "cell_type": "code",
   "execution_count": 4,
   "metadata": {},
   "outputs": [],
   "source": [
    "actions.login(driver, email, password) # if email and password isnt given, it'll prompt in terminal"
   ]
  },
  {
   "cell_type": "code",
   "execution_count": 5,
   "metadata": {},
   "outputs": [],
   "source": [
    "person = Person(\"https://www.linkedin.com/in/sharankrishna14\", driver=driver, close_on_complete=False, scrape=False)"
   ]
  },
  {
   "cell_type": "code",
   "execution_count": 6,
   "metadata": {},
   "outputs": [],
   "source": [
    "person.get_skills()"
   ]
  },
  {
   "cell_type": "code",
   "execution_count": 7,
   "metadata": {},
   "outputs": [
    {
     "data": {
      "text/plain": [
       "['Google Cloud Platform (GCP)',\n",
       " 'Kubeflow',\n",
       " 'Apache',\n",
       " 'Solidity',\n",
       " 'Robot Framework',\n",
       " 'GenAi',\n",
       " 'Quality Assurance',\n",
       " 'Manual Testing',\n",
       " 'Automated Software Testing',\n",
       " 'Test Automation',\n",
       " 'Pandas (Software)',\n",
       " 'TypeScript',\n",
       " 'React.js',\n",
       " 'Amazon Web Services (AWS)',\n",
       " 'Python (Programming Language)',\n",
       " 'Swift (Programming Language)',\n",
       " 'JavaScript',\n",
       " 'HTML',\n",
       " 'MongoDB',\n",
       " 'Express.js']"
      ]
     },
     "execution_count": 7,
     "metadata": {},
     "output_type": "execute_result"
    }
   ],
   "source": [
    "person.skills"
   ]
  },
  {
   "cell_type": "code",
   "execution_count": 39,
   "metadata": {},
   "outputs": [
    {
     "data": {
      "text/plain": [
       "'Rising professional with experience in various forms of software development, including full-stack web development with typescript and React to Machine Learning models with Python. Have great communication and leadership skills and the ability to work individually and as part of a team.\\nRising professional with experience in various forms of software development, including full-stack web development with typescript and React to Machine Learning models with Python. Have great communication and leadership skills and the ability to work individually and as part of a team.'"
      ]
     },
     "execution_count": 39,
     "metadata": {},
     "output_type": "execute_result"
    }
   ],
   "source": [
    "person.about"
   ]
  },
  {
   "cell_type": "code",
   "execution_count": 40,
   "metadata": {},
   "outputs": [
    {
     "data": {
      "text/plain": [
       "{'linkedin_url': 'https://www.linkedin.com/in/sharankrishna14',\n",
       " 'name': 'Sharan Krishna',\n",
       " 'about': 'Rising professional with experience in various forms of software development, including full-stack web development with typescript and React to Machine Learning models with Python. Have great communication and leadership skills and the ability to work individually and as part of a team.\\nRising professional with experience in various forms of software development, including full-stack web development with typescript and React to Machine Learning models with Python. Have great communication and leadership skills and the ability to work individually and as part of a team.',\n",
       " 'experiences': [Experience(institution_name='Hack4Impact · Full-time', linkedin_url='https://www.linkedin.com/company/9329200/', website=None, industry=None, type=None, headquarters=None, company_size=None, founded=None, from_date='Sep 2022', to_date='Present', description='- Completed boot camp training for development skills in MongoDB, Express, React, and Node.js to build a functional recipe website\\n- Worked with Wilshire Health and Community to build a dynamic donation-tracking website with Full Stack Development, AWS Amplify, and GraphQl\\n- Worked with EcoLogisitics to build a dynamic Web Scraper to scrape the SLO county website for untracked information with AWS Chalice and Beautiful Soup\\n- Completed boot camp training for development skills in MongoDB, Express, React, and Node.js to build a functional recipe website - Worked with Wilshire Health and Community to build a dynamic donation-tracking website with Full Stack Development, AWS Amplify, and GraphQl - Worked with EcoLogisitics to build a dynamic Web Scraper to scrape the SLO county website for untracked information with AWS Chalice and Beautiful Soup\\nSkills: HTML · React.js · Cascading Style Sheets (CSS) · MongoDB · TypeScript · Amazon Web Services (AWS) · Express.js · JavaScript · SQL · Node.js\\nHTML · React.js · Cascading Style Sheets (CSS) · MongoDB · TypeScript · Amazon Web Services (AWS) · Express.js · JavaScript · SQL · Node.js', position_title='Software Developer', duration='2 yrs 3 mos', location='San Luis Obispo, California, United States · Hybrid'),\n",
       "  Experience(institution_name='California Polytechnic State University-San Luis Obispo · Part-time', linkedin_url='https://www.linkedin.com/company/15251132/', website=None, industry=None, type=None, headquarters=None, company_size=None, founded=None, from_date='Jan 2024', to_date='Present', description='- Assisted Professor Ayaan Kazerouni in lab periods, helping students with Java syntax and object-oriented programming concepts \\n- Graded labs, quizzes, and projects \\n- Helped Foster a great learning and productive environment for students\\n- Assisted Professor Ayaan Kazerouni in lab periods, helping students with Java syntax and object-oriented programming concepts - Graded labs, quizzes, and projects - Helped Foster a great learning and productive environment for students\\nSkills: Java\\nJava', position_title='Instructional Student Assistant (CSC 203 - Object Oriented Programming) ', duration='11 mos', location='San Luis Obispo, California, United States · On-site'),\n",
       "  Experience(institution_name='Capgemini · Internship', linkedin_url='https://www.linkedin.com/company/157240/', website=None, industry=None, type=None, headquarters=None, company_size=None, founded=None, from_date='May 2024', to_date='Aug 2024', description='- Built an automated testing app in React and Python to create test cases, generate code, and build code reviews\\n- Integrated OpenAI in retrieval augmented generation (RAG) files to send prompts and receive AI responses for test and code automation\\n- Integrated GitHub API calls to allow for automated push to Git with integrated code versioning • Learned manual testing processes and increased Quality Engineering productivity by 50%\\n- Built an automated testing app in React and Python to create test cases, generate code, and build code reviews - Integrated OpenAI in retrieval augmented generation (RAG) files to send prompts and receive AI responses for test and code automation - Integrated GitHub API calls to allow for automated push to Git with integrated code versioning • Learned manual testing processes and increased Quality Engineering productivity by 50%\\nSkills: Python (Programming Language) · JavaScript · React.js · Robot Framework · GenAi · Quality Assurance · Manual Testing · Automated Software Testing · Test Automation\\nPython (Programming Language) · JavaScript · React.js · Robot Framework · GenAi · Quality Assurance · Manual Testing · Automated Software Testing · Test Automation', position_title='Software Engineering + Consulting Intern', duration='4 mos', location='Houston, Texas, United States · Hybrid'),\n",
       "  Experience(institution_name='Clinity Health Organization · Self-employed', linkedin_url='https://www.linkedin.com/search/results/all/?keywords=Clinity+Health+Organization', website=None, industry=None, type=None, headquarters=None, company_size=None, founded=None, from_date='Jun 2020', to_date='Oct 2023', description='- Co-Founded a nonprofit organization that aims to provide volunteers and supplies to free clinics in our community\\n- Raised over $3,500 dollars to purchase and donate pulse oximeters to Ashland Free Medical Clinic in San Lorenzo, CA\\n- Worked to increase our impact to a Global Scale by working to donate supplies to India during the COVID-19 Pandemic\\n- Co-Founded a nonprofit organization that aims to provide volunteers and supplies to free clinics in our community - Raised over $3,500 dollars to purchase and donate pulse oximeters to Ashland Free Medical Clinic in San Lorenzo, CA - Worked to increase our impact to a Global Scale by working to donate supplies to India during the COVID-19 Pandemic\\nSkills: Adobe Premiere Pro · Adobe Photoshop\\nAdobe Premiere Pro · Adobe Photoshop', position_title='Secretary/Co-Founder', duration='3 yrs 5 mos', location='Fremont, California, United States · Hybrid'),\n",
       "  Experience(institution_name='Geopogo · Internship', linkedin_url='https://www.linkedin.com/company/18656868/', website=None, industry=None, type=None, headquarters=None, company_size=None, founded=None, from_date='Jun 2023', to_date='Sep 2023', description='- Proposed and built projects with the Augmented Reality program in C# and Unity to simulate an architectural view of buildings and how they would appear in real life\\n- Restructured the IOS app in Swift and updated the UI for bug fixes and ease of use, increasing the user count by 20% \\n- Built a minimum viable product (TAGS) for designers to tag specific parts of their builds in augmented reality for 3D notes and review, resulting in a 30% increase in designer use\\n- Proposed and built projects with the Augmented Reality program in C# and Unity to simulate an architectural view of buildings and how they would appear in real life - Restructured the IOS app in Swift and updated the UI for bug fixes and ease of use, increasing the user count by 20% - Built a minimum viable product (TAGS) for designers to tag specific parts of their builds in augmented reality for 3D notes and review, resulting in a 30% increase in designer use\\nSkills: Swift (Programming Language) · C#\\nSwift (Programming Language) · C#', position_title='Software Engineering Intern', duration='4 mos', location='Berkeley, California, United States · Remote'),\n",
       "  Experience(institution_name='Mathnasium - The Math Learning Center · Part-time', linkedin_url='https://www.linkedin.com/company/276439/', website=None, industry=None, type=None, headquarters=None, company_size=None, founded=None, from_date='Oct 2021', to_date='Apr 2022', description='- Worked with students of all ages to explore the specialized Mathnasium Method of learning math\\n- Fostered a fun and efficient environment for students and built positive relationships. \\n- Honed my communication and explanation skills to allow myself to flourish in future team environments.\\n- Worked with students of all ages to explore the specialized Mathnasium Method of learning math - Fostered a fun and efficient environment for students and built positive relationships. - Honed my communication and explanation skills to allow myself to flourish in future team environments.', position_title='Mathematics Tutor', duration='7 mos', location='Newark, California, United States · On-site'),\n",
       "  Experience(institution_name='Gilead Sciences · Internship', linkedin_url='https://www.linkedin.com/company/163993/', website=None, industry=None, type=None, headquarters=None, company_size=None, founded=None, from_date='Aug 2021', to_date='Sep 2021', description='- Compiled LinkedIn Employee Data through competitive analysis through web scraping in Python\\n- Analyzed high-performance ML Systems and identified key data structures in the existing algorithms\\n- Shadowed experienced employees to learn about the work environment in a machine-learning company\\n- Compiled LinkedIn Employee Data through competitive analysis through web scraping in Python - Analyzed high-performance ML Systems and identified key data structures in the existing algorithms - Shadowed experienced employees to learn about the work environment in a machine-learning company\\nSkills: Python (Programming Language)\\nPython (Programming Language)', position_title='Software Engineering/Machine Learning Intern', duration='2 mos', location='Fremont, California, United States · On-site')],\n",
       " 'educations': [Education(institution_name='California Polytechnic State University-San Luis Obispo', linkedin_url='https://www.linkedin.com/company/15251132/', website=None, industry=None, type=None, headquarters=None, company_size=None, founded=None, from_date='2022', to_date='2026', description='Activities and societies: Cal Poly CS+Ai, Cal Poly CS + Social Good, Cal Poly Hack4Impact, Cal Poly Google Developer Student Club\\nActivities and societies: Cal Poly CS+Ai, Cal Poly CS + Social Good, Cal Poly Hack4Impact, Cal Poly Google Developer Student Club\\nSkills: Node.js · SQL · TypeScript · Amazon Web Services (AWS) · JavaScript · MongoDB · Java · C (Programming Language) · Python (Programming Language) · React.js · Express.js\\nNode.js · SQL · TypeScript · Amazon Web Services (AWS) · JavaScript · MongoDB · Java · C (Programming Language) · Python (Programming Language) · React.js · Express.js', degree=\"Bachelor's degree, Computer Science\"),\n",
       "  Education(institution_name='California Polytechnic State University-San Luis Obispo', linkedin_url='https://www.linkedin.com/company/15251132/', website=None, industry=None, type=None, headquarters=None, company_size=None, founded=None, from_date='2022', to_date='2026', description='Activities and societies: Cal Poly CS+Ai, Cal Poly CS + Social Good, Cal Poly Hack4Impact, Cal Poly Google Developer Student Club\\nActivities and societies: Cal Poly CS+Ai, Cal Poly CS + Social Good, Cal Poly Hack4Impact, Cal Poly Google Developer Student Club\\nSkills: Node.js · SQL · TypeScript · Amazon Web Services (AWS) · JavaScript · MongoDB · Java · C (Programming Language) · Python (Programming Language) · React.js · Express.js\\nNode.js · SQL · TypeScript · Amazon Web Services (AWS) · JavaScript · MongoDB · Java · C (Programming Language) · Python (Programming Language) · React.js · Express.js', degree=\"Bachelor's degree, Computer Science\")],\n",
       " 'interests': [],\n",
       " 'accomplishments': [],\n",
       " 'also_viewed_urls': [],\n",
       " 'contacts': [],\n",
       " 'driver': <selenium.webdriver.chrome.webdriver.WebDriver (session=\"896eb66ec4978c519b706ca31eda28cc\")>,\n",
       " 'location': 'Fremont, California, United States',\n",
       " 'open_to_work': False}"
      ]
     },
     "execution_count": 40,
     "metadata": {},
     "output_type": "execute_result"
    }
   ],
   "source": [
    "person.__dict__"
   ]
  },
  {
   "cell_type": "code",
   "execution_count": 41,
   "metadata": {},
   "outputs": [],
   "source": [
    "import json\n",
    "from linkedin_scraper import Person\n",
    "from typing import List\n",
    "\n",
    "def person_to_json(person: Person) -> str:\n",
    "    \"\"\"\n",
    "    Convert a Person object from linkedin-scraper to a JSON object.\n",
    "    \n",
    "    Args:\n",
    "        person (Person): The Person object to convert.\n",
    "\n",
    "    Returns:\n",
    "        str: JSON representation of the Person object.\n",
    "    \"\"\"\n",
    "    # Extract attributes from the Person object and handle nested objects as needed.\n",
    "    person_dict = {\n",
    "        'linkedin_url': person.linkedin_url,\n",
    "        'name': person.name,\n",
    "        'about': person.about,\n",
    "        'location': person.location,\n",
    "        'open_to_work': person.open_to_work,\n",
    "        'experiences': [\n",
    "            {\n",
    "                'institution_name': exp.institution_name,\n",
    "                'linkedin_url': exp.linkedin_url,\n",
    "                'website': exp.website,\n",
    "                'industry': exp.industry,\n",
    "                'type': exp.type,\n",
    "                'headquarters': exp.headquarters,\n",
    "                'company_size': exp.company_size,\n",
    "                'founded': exp.founded,\n",
    "                'from_date': exp.from_date,\n",
    "                'to_date': exp.to_date,\n",
    "                'description': exp.description,\n",
    "                'position_title': exp.position_title,\n",
    "                'duration': exp.duration,\n",
    "                'location': exp.location\n",
    "            } for exp in person.experiences  # Type annotation: List[Experience]\n",
    "        ],\n",
    "        'education': [\n",
    "            {\n",
    "                'institution_name': edu.institution_name,\n",
    "                'linkedin_url': edu.linkedin_url,\n",
    "                'website': edu.website,\n",
    "                'industry': edu.industry,\n",
    "                'type': edu.type,\n",
    "                'headquarters': edu.headquarters,\n",
    "                'company_size': edu.company_size,\n",
    "                'founded': edu.founded,\n",
    "                'from_date': edu.from_date,\n",
    "                'to_date': edu.to_date,\n",
    "                'description': edu.description,\n",
    "                'degree': edu.degree\n",
    "            } for edu in person.educations  # Type annotation: List[Education]\n",
    "        ],\n",
    "        'accomplishments': [\n",
    "            {\n",
    "                'institution_name': acc.institution_name,\n",
    "                'linkedin_url': acc.linkedin_url,\n",
    "                'website': acc.website,\n",
    "                'industry': acc.industry,\n",
    "                'type': acc.type,\n",
    "                'headquarters': acc.headquarters,\n",
    "                'company_size': acc.company_size,\n",
    "                'founded': acc.founded,\n",
    "                'category': acc.category,\n",
    "                'title': acc.title\n",
    "            } for acc in person.accomplishments  # Type annotation: List[Accomplishment]\n",
    "        ],\n",
    "        'interests': [\n",
    "            {\n",
    "                'institution_name': intst.institution_name,\n",
    "                'linkedin_url': intst.linkedin_url,\n",
    "                'website': intst.website,\n",
    "                'industry': intst.industry,\n",
    "                'type': intst.type,\n",
    "                'headquarters': intst.headquarters,\n",
    "                'company_size': intst.company_size,\n",
    "                'founded': intst.founded,\n",
    "                'title': intst.title\n",
    "            } for intst in person.interests  # Type annotation: List[Interest]\n",
    "        ],\n",
    "        'contacts': person.contacts,\n",
    "        'also_viewed_urls': person.also_viewed_urls\n",
    "    }\n",
    "\n",
    "    return person_dict\n"
   ]
  },
  {
   "cell_type": "code",
   "execution_count": 42,
   "metadata": {},
   "outputs": [
    {
     "data": {
      "text/plain": [
       "{'linkedin_url': 'https://www.linkedin.com/in/sharankrishna14',\n",
       " 'name': 'Sharan Krishna',\n",
       " 'about': 'Rising professional with experience in various forms of software development, including full-stack web development with typescript and React to Machine Learning models with Python. Have great communication and leadership skills and the ability to work individually and as part of a team.\\nRising professional with experience in various forms of software development, including full-stack web development with typescript and React to Machine Learning models with Python. Have great communication and leadership skills and the ability to work individually and as part of a team.',\n",
       " 'location': 'Fremont, California, United States',\n",
       " 'open_to_work': False,\n",
       " 'experiences': [{'institution_name': 'Hack4Impact · Full-time',\n",
       "   'linkedin_url': 'https://www.linkedin.com/company/9329200/',\n",
       "   'website': None,\n",
       "   'industry': None,\n",
       "   'type': None,\n",
       "   'headquarters': None,\n",
       "   'company_size': None,\n",
       "   'founded': None,\n",
       "   'from_date': 'Sep 2022',\n",
       "   'to_date': 'Present',\n",
       "   'description': '- Completed boot camp training for development skills in MongoDB, Express, React, and Node.js to build a functional recipe website\\n- Worked with Wilshire Health and Community to build a dynamic donation-tracking website with Full Stack Development, AWS Amplify, and GraphQl\\n- Worked with EcoLogisitics to build a dynamic Web Scraper to scrape the SLO county website for untracked information with AWS Chalice and Beautiful Soup\\n- Completed boot camp training for development skills in MongoDB, Express, React, and Node.js to build a functional recipe website - Worked with Wilshire Health and Community to build a dynamic donation-tracking website with Full Stack Development, AWS Amplify, and GraphQl - Worked with EcoLogisitics to build a dynamic Web Scraper to scrape the SLO county website for untracked information with AWS Chalice and Beautiful Soup\\nSkills: HTML · React.js · Cascading Style Sheets (CSS) · MongoDB · TypeScript · Amazon Web Services (AWS) · Express.js · JavaScript · SQL · Node.js\\nHTML · React.js · Cascading Style Sheets (CSS) · MongoDB · TypeScript · Amazon Web Services (AWS) · Express.js · JavaScript · SQL · Node.js',\n",
       "   'position_title': 'Software Developer',\n",
       "   'duration': '2 yrs 3 mos',\n",
       "   'location': 'San Luis Obispo, California, United States · Hybrid'},\n",
       "  {'institution_name': 'California Polytechnic State University-San Luis Obispo · Part-time',\n",
       "   'linkedin_url': 'https://www.linkedin.com/company/15251132/',\n",
       "   'website': None,\n",
       "   'industry': None,\n",
       "   'type': None,\n",
       "   'headquarters': None,\n",
       "   'company_size': None,\n",
       "   'founded': None,\n",
       "   'from_date': 'Jan 2024',\n",
       "   'to_date': 'Present',\n",
       "   'description': '- Assisted Professor Ayaan Kazerouni in lab periods, helping students with Java syntax and object-oriented programming concepts \\n- Graded labs, quizzes, and projects \\n- Helped Foster a great learning and productive environment for students\\n- Assisted Professor Ayaan Kazerouni in lab periods, helping students with Java syntax and object-oriented programming concepts - Graded labs, quizzes, and projects - Helped Foster a great learning and productive environment for students\\nSkills: Java\\nJava',\n",
       "   'position_title': 'Instructional Student Assistant (CSC 203 - Object Oriented Programming) ',\n",
       "   'duration': '11 mos',\n",
       "   'location': 'San Luis Obispo, California, United States · On-site'},\n",
       "  {'institution_name': 'Capgemini · Internship',\n",
       "   'linkedin_url': 'https://www.linkedin.com/company/157240/',\n",
       "   'website': None,\n",
       "   'industry': None,\n",
       "   'type': None,\n",
       "   'headquarters': None,\n",
       "   'company_size': None,\n",
       "   'founded': None,\n",
       "   'from_date': 'May 2024',\n",
       "   'to_date': 'Aug 2024',\n",
       "   'description': '- Built an automated testing app in React and Python to create test cases, generate code, and build code reviews\\n- Integrated OpenAI in retrieval augmented generation (RAG) files to send prompts and receive AI responses for test and code automation\\n- Integrated GitHub API calls to allow for automated push to Git with integrated code versioning • Learned manual testing processes and increased Quality Engineering productivity by 50%\\n- Built an automated testing app in React and Python to create test cases, generate code, and build code reviews - Integrated OpenAI in retrieval augmented generation (RAG) files to send prompts and receive AI responses for test and code automation - Integrated GitHub API calls to allow for automated push to Git with integrated code versioning • Learned manual testing processes and increased Quality Engineering productivity by 50%\\nSkills: Python (Programming Language) · JavaScript · React.js · Robot Framework · GenAi · Quality Assurance · Manual Testing · Automated Software Testing · Test Automation\\nPython (Programming Language) · JavaScript · React.js · Robot Framework · GenAi · Quality Assurance · Manual Testing · Automated Software Testing · Test Automation',\n",
       "   'position_title': 'Software Engineering + Consulting Intern',\n",
       "   'duration': '4 mos',\n",
       "   'location': 'Houston, Texas, United States · Hybrid'},\n",
       "  {'institution_name': 'Clinity Health Organization · Self-employed',\n",
       "   'linkedin_url': 'https://www.linkedin.com/search/results/all/?keywords=Clinity+Health+Organization',\n",
       "   'website': None,\n",
       "   'industry': None,\n",
       "   'type': None,\n",
       "   'headquarters': None,\n",
       "   'company_size': None,\n",
       "   'founded': None,\n",
       "   'from_date': 'Jun 2020',\n",
       "   'to_date': 'Oct 2023',\n",
       "   'description': '- Co-Founded a nonprofit organization that aims to provide volunteers and supplies to free clinics in our community\\n- Raised over $3,500 dollars to purchase and donate pulse oximeters to Ashland Free Medical Clinic in San Lorenzo, CA\\n- Worked to increase our impact to a Global Scale by working to donate supplies to India during the COVID-19 Pandemic\\n- Co-Founded a nonprofit organization that aims to provide volunteers and supplies to free clinics in our community - Raised over $3,500 dollars to purchase and donate pulse oximeters to Ashland Free Medical Clinic in San Lorenzo, CA - Worked to increase our impact to a Global Scale by working to donate supplies to India during the COVID-19 Pandemic\\nSkills: Adobe Premiere Pro · Adobe Photoshop\\nAdobe Premiere Pro · Adobe Photoshop',\n",
       "   'position_title': 'Secretary/Co-Founder',\n",
       "   'duration': '3 yrs 5 mos',\n",
       "   'location': 'Fremont, California, United States · Hybrid'},\n",
       "  {'institution_name': 'Geopogo · Internship',\n",
       "   'linkedin_url': 'https://www.linkedin.com/company/18656868/',\n",
       "   'website': None,\n",
       "   'industry': None,\n",
       "   'type': None,\n",
       "   'headquarters': None,\n",
       "   'company_size': None,\n",
       "   'founded': None,\n",
       "   'from_date': 'Jun 2023',\n",
       "   'to_date': 'Sep 2023',\n",
       "   'description': '- Proposed and built projects with the Augmented Reality program in C# and Unity to simulate an architectural view of buildings and how they would appear in real life\\n- Restructured the IOS app in Swift and updated the UI for bug fixes and ease of use, increasing the user count by 20% \\n- Built a minimum viable product (TAGS) for designers to tag specific parts of their builds in augmented reality for 3D notes and review, resulting in a 30% increase in designer use\\n- Proposed and built projects with the Augmented Reality program in C# and Unity to simulate an architectural view of buildings and how they would appear in real life - Restructured the IOS app in Swift and updated the UI for bug fixes and ease of use, increasing the user count by 20% - Built a minimum viable product (TAGS) for designers to tag specific parts of their builds in augmented reality for 3D notes and review, resulting in a 30% increase in designer use\\nSkills: Swift (Programming Language) · C#\\nSwift (Programming Language) · C#',\n",
       "   'position_title': 'Software Engineering Intern',\n",
       "   'duration': '4 mos',\n",
       "   'location': 'Berkeley, California, United States · Remote'},\n",
       "  {'institution_name': 'Mathnasium - The Math Learning Center · Part-time',\n",
       "   'linkedin_url': 'https://www.linkedin.com/company/276439/',\n",
       "   'website': None,\n",
       "   'industry': None,\n",
       "   'type': None,\n",
       "   'headquarters': None,\n",
       "   'company_size': None,\n",
       "   'founded': None,\n",
       "   'from_date': 'Oct 2021',\n",
       "   'to_date': 'Apr 2022',\n",
       "   'description': '- Worked with students of all ages to explore the specialized Mathnasium Method of learning math\\n- Fostered a fun and efficient environment for students and built positive relationships. \\n- Honed my communication and explanation skills to allow myself to flourish in future team environments.\\n- Worked with students of all ages to explore the specialized Mathnasium Method of learning math - Fostered a fun and efficient environment for students and built positive relationships. - Honed my communication and explanation skills to allow myself to flourish in future team environments.',\n",
       "   'position_title': 'Mathematics Tutor',\n",
       "   'duration': '7 mos',\n",
       "   'location': 'Newark, California, United States · On-site'},\n",
       "  {'institution_name': 'Gilead Sciences · Internship',\n",
       "   'linkedin_url': 'https://www.linkedin.com/company/163993/',\n",
       "   'website': None,\n",
       "   'industry': None,\n",
       "   'type': None,\n",
       "   'headquarters': None,\n",
       "   'company_size': None,\n",
       "   'founded': None,\n",
       "   'from_date': 'Aug 2021',\n",
       "   'to_date': 'Sep 2021',\n",
       "   'description': '- Compiled LinkedIn Employee Data through competitive analysis through web scraping in Python\\n- Analyzed high-performance ML Systems and identified key data structures in the existing algorithms\\n- Shadowed experienced employees to learn about the work environment in a machine-learning company\\n- Compiled LinkedIn Employee Data through competitive analysis through web scraping in Python - Analyzed high-performance ML Systems and identified key data structures in the existing algorithms - Shadowed experienced employees to learn about the work environment in a machine-learning company\\nSkills: Python (Programming Language)\\nPython (Programming Language)',\n",
       "   'position_title': 'Software Engineering/Machine Learning Intern',\n",
       "   'duration': '2 mos',\n",
       "   'location': 'Fremont, California, United States · On-site'}],\n",
       " 'education': [{'institution_name': 'California Polytechnic State University-San Luis Obispo',\n",
       "   'linkedin_url': 'https://www.linkedin.com/company/15251132/',\n",
       "   'website': None,\n",
       "   'industry': None,\n",
       "   'type': None,\n",
       "   'headquarters': None,\n",
       "   'company_size': None,\n",
       "   'founded': None,\n",
       "   'from_date': '2022',\n",
       "   'to_date': '2026',\n",
       "   'description': 'Activities and societies: Cal Poly CS+Ai, Cal Poly CS + Social Good, Cal Poly Hack4Impact, Cal Poly Google Developer Student Club\\nActivities and societies: Cal Poly CS+Ai, Cal Poly CS + Social Good, Cal Poly Hack4Impact, Cal Poly Google Developer Student Club\\nSkills: Node.js · SQL · TypeScript · Amazon Web Services (AWS) · JavaScript · MongoDB · Java · C (Programming Language) · Python (Programming Language) · React.js · Express.js\\nNode.js · SQL · TypeScript · Amazon Web Services (AWS) · JavaScript · MongoDB · Java · C (Programming Language) · Python (Programming Language) · React.js · Express.js',\n",
       "   'degree': \"Bachelor's degree, Computer Science\"},\n",
       "  {'institution_name': 'California Polytechnic State University-San Luis Obispo',\n",
       "   'linkedin_url': 'https://www.linkedin.com/company/15251132/',\n",
       "   'website': None,\n",
       "   'industry': None,\n",
       "   'type': None,\n",
       "   'headquarters': None,\n",
       "   'company_size': None,\n",
       "   'founded': None,\n",
       "   'from_date': '2022',\n",
       "   'to_date': '2026',\n",
       "   'description': 'Activities and societies: Cal Poly CS+Ai, Cal Poly CS + Social Good, Cal Poly Hack4Impact, Cal Poly Google Developer Student Club\\nActivities and societies: Cal Poly CS+Ai, Cal Poly CS + Social Good, Cal Poly Hack4Impact, Cal Poly Google Developer Student Club\\nSkills: Node.js · SQL · TypeScript · Amazon Web Services (AWS) · JavaScript · MongoDB · Java · C (Programming Language) · Python (Programming Language) · React.js · Express.js\\nNode.js · SQL · TypeScript · Amazon Web Services (AWS) · JavaScript · MongoDB · Java · C (Programming Language) · Python (Programming Language) · React.js · Express.js',\n",
       "   'degree': \"Bachelor's degree, Computer Science\"}],\n",
       " 'accomplishments': [],\n",
       " 'interests': [],\n",
       " 'contacts': [],\n",
       " 'also_viewed_urls': []}"
      ]
     },
     "execution_count": 42,
     "metadata": {},
     "output_type": "execute_result"
    }
   ],
   "source": [
    "person_to_json(person)"
   ]
  },
  {
   "cell_type": "code",
   "execution_count": null,
   "metadata": {},
   "outputs": [],
   "source": []
  }
 ],
 "metadata": {
  "kernelspec": {
   "display_name": "venv",
   "language": "python",
   "name": "python3"
  },
  "language_info": {
   "codemirror_mode": {
    "name": "ipython",
    "version": 3
   },
   "file_extension": ".py",
   "mimetype": "text/x-python",
   "name": "python",
   "nbconvert_exporter": "python",
   "pygments_lexer": "ipython3",
   "version": "3.12.5"
  }
 },
 "nbformat": 4,
 "nbformat_minor": 2
}
