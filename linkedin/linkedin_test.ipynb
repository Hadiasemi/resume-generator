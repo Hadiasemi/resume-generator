{
 "cells": [
  {
   "cell_type": "code",
   "execution_count": 1,
   "metadata": {},
   "outputs": [],
   "source": [
    "from linkedin_scraper import Person, actions, Company\n",
    "from selenium import webdriver"
   ]
  },
  {
   "cell_type": "code",
   "execution_count": 12,
   "metadata": {},
   "outputs": [],
   "source": [
    "driver = webdriver.Chrome()"
   ]
  },
  {
   "cell_type": "code",
   "execution_count": 13,
   "metadata": {},
   "outputs": [],
   "source": [
    "import random\n",
    "password = \"qwertyuiop123!\"\n",
    "with open(\"gmails.txt\", \"r\") as f:\n",
    "    gmails = f.readlines()\n",
    "\n",
    "email = random.choice(gmails)"
   ]
  },
  {
   "cell_type": "code",
   "execution_count": 14,
   "metadata": {},
   "outputs": [],
   "source": [
    "actions.login(driver, email, password) # if email and password isnt given, it'll prompt in terminal"
   ]
  },
  {
   "cell_type": "code",
   "execution_count": 5,
   "metadata": {},
   "outputs": [],
   "source": [
    "company = Company(\"https://linkedin.com/company/entertech/\", driver=driver, scrape=False)"
   ]
  },
  {
   "cell_type": "code",
   "execution_count": 6,
   "metadata": {},
   "outputs": [
    {
     "ename": "TimeoutException",
     "evalue": "Message: \n",
     "output_type": "error",
     "traceback": [
      "\u001b[0;31m---------------------------------------------------------------------------\u001b[0m",
      "\u001b[0;31mTimeoutException\u001b[0m                          Traceback (most recent call last)",
      "Cell \u001b[0;32mIn[6], line 1\u001b[0m\n\u001b[0;32m----> 1\u001b[0m \u001b[43mcompany\u001b[49m\u001b[38;5;241;43m.\u001b[39;49m\u001b[43mget_employees\u001b[49m\u001b[43m(\u001b[49m\u001b[43m)\u001b[49m\n",
      "File \u001b[0;32m~/Documents/courses/resume-generator/linkedin/venv/lib/python3.12/site-packages/linkedin_scraper/company.py:131\u001b[0m, in \u001b[0;36mCompany.get_employees\u001b[0;34m(self, wait_time)\u001b[0m\n\u001b[1;32m    128\u001b[0m     \u001b[38;5;28;01mpass\u001b[39;00m\n\u001b[1;32m    129\u001b[0m driver\u001b[38;5;241m.\u001b[39mget(os\u001b[38;5;241m.\u001b[39mpath\u001b[38;5;241m.\u001b[39mjoin(\u001b[38;5;28mself\u001b[39m\u001b[38;5;241m.\u001b[39mlinkedin_url, \u001b[38;5;124m\"\u001b[39m\u001b[38;5;124mpeople\u001b[39m\u001b[38;5;124m\"\u001b[39m))\n\u001b[0;32m--> 131\u001b[0m _ \u001b[38;5;241m=\u001b[39m \u001b[43mWebDriverWait\u001b[49m\u001b[43m(\u001b[49m\u001b[43mdriver\u001b[49m\u001b[43m,\u001b[49m\u001b[43m \u001b[49m\u001b[38;5;241;43m3\u001b[39;49m\u001b[43m)\u001b[49m\u001b[38;5;241;43m.\u001b[39;49m\u001b[43muntil\u001b[49m\u001b[43m(\u001b[49m\u001b[43mEC\u001b[49m\u001b[38;5;241;43m.\u001b[39;49m\u001b[43mpresence_of_all_elements_located\u001b[49m\u001b[43m(\u001b[49m\u001b[43m(\u001b[49m\u001b[43mBy\u001b[49m\u001b[38;5;241;43m.\u001b[39;49m\u001b[43mXPATH\u001b[49m\u001b[43m,\u001b[49m\u001b[43m \u001b[49m\u001b[38;5;124;43m'\u001b[39;49m\u001b[38;5;124;43m//span[@dir=\u001b[39;49m\u001b[38;5;124;43m\"\u001b[39;49m\u001b[38;5;124;43mltr\u001b[39;49m\u001b[38;5;124;43m\"\u001b[39;49m\u001b[38;5;124;43m]\u001b[39;49m\u001b[38;5;124;43m'\u001b[39;49m\u001b[43m)\u001b[49m\u001b[43m)\u001b[49m\u001b[43m)\u001b[49m\n\u001b[1;32m    133\u001b[0m driver\u001b[38;5;241m.\u001b[39mexecute_script(\u001b[38;5;124m\"\u001b[39m\u001b[38;5;124mwindow.scrollTo(0, Math.ceil(document.body.scrollHeight/2));\u001b[39m\u001b[38;5;124m\"\u001b[39m)\n\u001b[1;32m    134\u001b[0m time\u001b[38;5;241m.\u001b[39msleep(\u001b[38;5;241m1\u001b[39m)\n",
      "File \u001b[0;32m~/Documents/courses/resume-generator/linkedin/venv/lib/python3.12/site-packages/selenium/webdriver/support/wait.py:105\u001b[0m, in \u001b[0;36mWebDriverWait.until\u001b[0;34m(self, method, message)\u001b[0m\n\u001b[1;32m    103\u001b[0m     \u001b[38;5;28;01mif\u001b[39;00m time\u001b[38;5;241m.\u001b[39mmonotonic() \u001b[38;5;241m>\u001b[39m end_time:\n\u001b[1;32m    104\u001b[0m         \u001b[38;5;28;01mbreak\u001b[39;00m\n\u001b[0;32m--> 105\u001b[0m \u001b[38;5;28;01mraise\u001b[39;00m TimeoutException(message, screen, stacktrace)\n",
      "\u001b[0;31mTimeoutException\u001b[0m: Message: \n"
     ]
    }
   ],
   "source": [
    "company.get_employees()"
   ]
  },
  {
   "cell_type": "code",
   "execution_count": null,
   "metadata": {},
   "outputs": [
    {
     "data": {
      "text/plain": [
       "'11-50 employees'"
      ]
     },
     "execution_count": 18,
     "metadata": {},
     "output_type": "execute_result"
    }
   ],
   "source": [
    "company.company_size"
   ]
  },
  {
   "cell_type": "code",
   "execution_count": 8,
   "metadata": {},
   "outputs": [],
   "source": [
    "person = Person(\"https://www.linkedin.com/in/andre-iguodala-65b48ab5\", driver=driver)"
   ]
  },
  {
   "cell_type": "code",
   "execution_count": 9,
   "metadata": {},
   "outputs": [
    {
     "data": {
      "text/plain": [
       "[]"
      ]
     },
     "execution_count": 9,
     "metadata": {},
     "output_type": "execute_result"
    }
   ],
   "source": [
    "person.accomplishments"
   ]
  },
  {
   "cell_type": "code",
   "execution_count": 10,
   "metadata": {},
   "outputs": [
    {
     "data": {
      "text/plain": [
       "\"Andre Iguodala, is a four-time NBA Champion with the Golden State Warriors, former All- Star, NBA Finals MVP and two-time Olympic Gold Medalist. He served as First Vice President of the National Basketball Players Association from 2015 to 2023. During his 19-seasons, Andre also carved out a unique niche for his success off the court that redefined the blueprint for younger athletes.\\n\\nSince 2010, Andre has been at the forefront of venture capital and technology, with a portfolio that spans more than 50 companies including Zoom, Cloudflare, Qualtrics, and DataDog. Andre is on the board of the UCSF Foundation. He previously served as an investor and board member for Jumia Technologies (NYSE: JMIA), as well as a board advisor for Zuora (NYSE: ZUO).\\n\\nKnown for his keen business savvy, Andre recently Co-Founded MOSAIC, a $200 million early stage venture capital firm where he serves as a General Partner focused on enterprise, fintech, healthcare, and sports companies. As the name indicates, the firm centers diversity in all its forms while focusing on financial returns and social impact.\\n\\nAndre is co-owner of Tomorrow Golf League (TGL) San Francisco, joining former teammates Stephen Curry and Klay Thompson. TGL is the new tech-forward, prime-time team golf league developed by Tiger Woods and Rory McIlroy's TMRW Sports in partnership with the PGA TOUR.\\n\\nAndre is also the co-owner of the Leeds United Football Club of the English Premier League, co-owner of Bay Area Football Club, the San Francisco Expansion team for the National Women’s Soccer League (NWSL) and Athletes First (A1), the leading NFL agency.\\n\\nFrom his Illinois hometown to becoming an NBA champion, Andre documented his journey of grit and resilience in his 2019 New York Times Best Selling memoir, “The Sixth Man,” published by Penguin Random House. In 2022, Andre partnered with former teammate, Evan Turner to launch New Amendment, a content production company. Together with Vox Media they produce and co-host Point Forward, which consistently ranks in the top 5 of all sports podcasts.\\n\\nDrafted into the NBA in 2004, Andre played for the Golden State Warriors, Miami Heat, Denver Nuggets and Philadelphia 76ers.\""
      ]
     },
     "execution_count": 10,
     "metadata": {},
     "output_type": "execute_result"
    }
   ],
   "source": [
    "person.about"
   ]
  },
  {
   "cell_type": "code",
   "execution_count": 11,
   "metadata": {},
   "outputs": [
    {
     "data": {
      "text/plain": [
       "[Experience(institution_name='Mosaic General Partnership', linkedin_url='https://www.linkedin.com/company/76591247/', website=None, industry=None, type=None, headquarters=None, company_size=None, founded=None, from_date='Mar 2021', to_date='Present', description='', position_title='Co-Founder, General Partner', duration='3 yrs 9 mos', location='United States'),\n",
       " Experience(institution_name='National Basketball Players Association (NBPA)', linkedin_url='https://www.linkedin.com/company/695196/', website=None, industry=None, type=None, headquarters=None, company_size=None, founded=None, from_date='Nov 2023', to_date='Present', description='', position_title='Executive Director', duration='1 yr 1 mo', location='New York, New York, United States · On-site'),\n",
       " Experience(institution_name='Concrete Rose Capital', linkedin_url='https://www.linkedin.com/company/64633967/', website=None, industry=None, type=None, headquarters=None, company_size=None, founded=None, from_date='Dec 2019', to_date='Present', description='', position_title='Investment Committee ', duration='5 yrs', location=''),\n",
       " Experience(institution_name='National Basketball Association (NBA)', linkedin_url='https://www.linkedin.com/company/104413/', website=None, industry=None, type=None, headquarters=None, company_size=None, founded=None, from_date='2004 -', to_date='2023', description='', position_title='Professional Basketball Player', duration='19 yrs 10 mos', location='United States'),\n",
       " Experience(institution_name='Jumia Nigeria', linkedin_url='https://www.linkedin.com/company/2647213/', website=None, industry=None, type=None, headquarters=None, company_size=None, founded=None, from_date='2019 -', to_date='', description='', position_title='Board Member', duration='4 yrs', location=''),\n",
       " Experience(institution_name='National Basketball Players Association (NBPA)', linkedin_url='https://www.linkedin.com/company/695196/', website=None, industry=None, type=None, headquarters=None, company_size=None, founded=None, from_date='2013 -', to_date='', description='', position_title='Vice President', duration='10 yrs', location='New York, NY'),\n",
       " Experience(institution_name='Catalyst Fund', linkedin_url='https://www.linkedin.com/company/11200913/', website=None, industry=None, type=None, headquarters=None, company_size=None, founded=None, from_date='2020 -', to_date='', description='', position_title='Venture Partner', duration='1 yr', location='')]"
      ]
     },
     "execution_count": 11,
     "metadata": {},
     "output_type": "execute_result"
    }
   ],
   "source": [
    "person.experiences"
   ]
  },
  {
   "cell_type": "code",
   "execution_count": null,
   "metadata": {},
   "outputs": [],
   "source": []
  }
 ],
 "metadata": {
  "kernelspec": {
   "display_name": "venv",
   "language": "python",
   "name": "python3"
  },
  "language_info": {
   "codemirror_mode": {
    "name": "ipython",
    "version": 3
   },
   "file_extension": ".py",
   "mimetype": "text/x-python",
   "name": "python",
   "nbconvert_exporter": "python",
   "pygments_lexer": "ipython3",
   "version": "3.12.5"
  }
 },
 "nbformat": 4,
 "nbformat_minor": 2
}
