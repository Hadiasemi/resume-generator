{
 "cells": [
  {
   "cell_type": "code",
   "execution_count": null,
   "metadata": {},
   "outputs": [
    {
     "name": "stdout",
     "output_type": "stream",
     "text": [
      "1\n",
      "found normal sbg! ([0, 1, 2, 3],)\n",
      "2\n",
      "found normal sbg! ([0, 1, 2, 3], [0, 1, 3, 2], [0, 2, 1, 3], [0, 2, 3, 1], [0, 3, 1, 2], [0, 3, 2, 1], [1, 0, 2, 3], [1, 0, 3, 2], [1, 2, 0, 3], [1, 2, 3, 0], [1, 3, 0, 2], [1, 3, 2, 0], [2, 0, 1, 3], [2, 0, 3, 1], [2, 1, 0, 3], [2, 1, 3, 0], [2, 3, 0, 1], [2, 3, 1, 0], [3, 0, 1, 2], [3, 0, 2, 1], [3, 1, 0, 2], [3, 1, 2, 0], [3, 2, 0, 1], [3, 2, 1, 0])\n",
      "found normal sbg! ([0, 1, 2, 3], [0, 2, 3, 1], [0, 3, 1, 2], [1, 0, 3, 2], [1, 2, 0, 3], [1, 3, 2, 0], [2, 0, 1, 3], [2, 1, 3, 0], [2, 3, 0, 1], [3, 0, 2, 1], [3, 1, 0, 2], [3, 2, 1, 0])\n",
      "found normal sbg! ([0, 1, 2, 3], [1, 0, 3, 2], [2, 3, 0, 1], [3, 2, 1, 0])\n",
      "3\n",
      "4\n",
      "5\n",
      "6\n",
      "7\n",
      "8\n",
      "9\n",
      "10\n"
     ]
    }
   ],
   "source": [
    "from itertools import permutations, combinations\n",
    "\n",
    "class Permutation:\n",
    "    def __init__(self, map_lst):\n",
    "        self.map_lst = map_lst\n",
    "        \n",
    "    def permute(self, lst):\n",
    "        if len(lst) != len(self.map_lst):\n",
    "            raise Exception\n",
    "        return [lst[self.map_lst[i]] for i in range(len(lst))]\n",
    "        \n",
    "    def inverse(self):\n",
    "        new_perm = self.map_lst.copy()\n",
    "        for old_spot, new_spot in enumerate(self.map_lst):\n",
    "            new_perm[new_spot] = old_spot\n",
    "        return Permutation(new_perm)\n",
    "        \n",
    "    def compose(self, other):\n",
    "        # sig.compose(tau) = sig tau (in Herstein), so sig acts first\n",
    "        return Permutation(other.permute(self.map_lst))\n",
    "        \n",
    "    def __repr__(self):\n",
    "        return str(self.map_lst)\n",
    "        \n",
    "    def __eq__(self, other):\n",
    "        return self.map_lst == other.map_lst\n",
    "        \n",
    "    def __hash__(self):\n",
    "        return hash(tuple(self.map_lst))\n",
    "    \n",
    "    def __lt__(self, other):\n",
    "        return self.map_lst < other.map_lst  # Lexicographical comparison\n",
    "        \n",
    "def generate_sn(n):\n",
    "    perms = []\n",
    "    for perm in permutations(range(n)):\n",
    "        perms.append(Permutation(list(perm)))\n",
    "    return perms\n",
    "    \n",
    "def get_subgroup_generated_by(perms):\n",
    "    final_perms = set()\n",
    "    to_explore = list(perms)\n",
    "    \n",
    "    while to_explore:\n",
    "        cur = to_explore.pop()\n",
    "        start = len(final_perms)\n",
    "        \n",
    "        final_perms.add(cur)\n",
    "        \n",
    "        for other in final_perms:\n",
    "            new_perm = cur.compose(other)\n",
    "            if new_perm not in final_perms:\n",
    "                to_explore.append(new_perm)\n",
    "        \n",
    "        if start != len(final_perms):\n",
    "            to_explore.append(cur) # We found new stuff, so we want to make sure the product of cur and new stuff is there\n",
    "\n",
    "    return final_perms\n",
    "    \n",
    "def is_normal(sbg, g):\n",
    "    for perm in g:\n",
    "        for q in sbg:\n",
    "            if (perm.inverse()).compose(q).compose(perm) not in sbg:\n",
    "                return False\n",
    "    return True\n",
    "\n",
    "def all_normal_sbgs(g):\n",
    "    normal_sbgs = set()\n",
    "    for r in range(1, len(g) + 1):\n",
    "        print(r)\n",
    "        for combination in combinations(g, r):\n",
    "            sbg = get_subgroup_generated_by(combination)\n",
    "            sorted_sbg = tuple(sorted(sbg))  # Sort and convert to tuple\n",
    "            \n",
    "            # Only check normality if the sorted subgroup is not already in `normal_sbgs`\n",
    "            if sorted_sbg not in normal_sbgs and is_normal(sbg, g):\n",
    "                print(\"found normal sbg!\", sorted_sbg)\n",
    "                normal_sbgs.add(sorted_sbg)\n",
    "                \n",
    "    return normal_sbgs\n",
    "    \n",
    "    \n",
    "s4 = generate_sn(4)\n",
    "norms = all_normal_sbgs(s4)\n"
   ]
  },
  {
   "cell_type": "code",
   "execution_count": 13,
   "metadata": {},
   "outputs": [
    {
     "name": "stdout",
     "output_type": "stream",
     "text": [
      "{[3, 2, 1, 0], [0, 1, 2, 3], [2, 3, 0, 1], [1, 0, 3, 2]}\n"
     ]
    }
   ],
   "source": [
    "print(get_subgroup_generated_by([Permutation(elem) for elem in [[2, 3, 0, 1], [3, 2, 1, 0]]]))"
   ]
  },
  {
   "cell_type": "code",
   "execution_count": null,
   "metadata": {},
   "outputs": [],
   "source": []
  }
 ],
 "metadata": {
  "kernelspec": {
   "display_name": "Python 3",
   "language": "python",
   "name": "python3"
  },
  "language_info": {
   "codemirror_mode": {
    "name": "ipython",
    "version": 3
   },
   "file_extension": ".py",
   "mimetype": "text/x-python",
   "name": "python",
   "nbconvert_exporter": "python",
   "pygments_lexer": "ipython3",
   "version": "3.8.10"
  }
 },
 "nbformat": 4,
 "nbformat_minor": 2
}
