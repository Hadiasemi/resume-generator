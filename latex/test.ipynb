{
 "cells": [
  {
   "cell_type": "code",
   "execution_count": 1,
   "metadata": {},
   "outputs": [],
   "source": [
    "from grammar import *"
   ]
  },
  {
   "cell_type": "code",
   "execution_count": 2,
   "metadata": {},
   "outputs": [
    {
     "data": {
      "text/plain": [
       "<grammar.nonterminal.S at 0x7fae3a4c8d00>"
      ]
     },
     "execution_count": 2,
     "metadata": {},
     "output_type": "execute_result"
    }
   ],
   "source": [
    "start = S()\n",
    "start.expand()"
   ]
  },
  {
   "cell_type": "code",
   "execution_count": 3,
   "metadata": {},
   "outputs": [
    {
     "data": {
      "text/plain": [
       "{'S': [{'Head': [{'Title': [<grammar.head.FullName at 0x7fae3a4a9f40>]},\n",
       "    {'PhoneEmail': [<grammar.head.Phone at 0x7fae3a4a9e50>,\n",
       "      <grammar.head.Email at 0x7fae3a4a9f10>]},\n",
       "    {'LinkedInGitHub': [{'GitHubField': [<grammar.head.GitHub at 0x7fae39d39730>]},\n",
       "      {'LinkedInField': [<grammar.head.LinkedIn at 0x7fae3a4c80a0>]}]},\n",
       "    {'GeographicalInfoField': [<grammar.head.GeographicalInfo at 0x7fae39d454c0>]}]},\n",
       "  {'Body': [{'EducationSection': [{'CalPolyEducation': [<grammar.education.CalPoly at 0x7fae3a4dd2e0>,\n",
       "        <grammar.education.CalPolyEduGeographicalInfo at 0x7fae3a4dd280>,\n",
       "        <grammar.education.EduDegreeName at 0x7fae3a4dd160>,\n",
       "        <grammar.education.EduDate at 0x7fae3a4dd370>,\n",
       "        <grammar.education.EduGPA at 0x7fae3a4dd3d0>]},\n",
       "      {'Education': [<grammar.education.EduInstitution at 0x7fae3a4dd4c0>,\n",
       "        <grammar.education.EduGeographicalInfo at 0x7fae3a4dd460>,\n",
       "        <grammar.education.EduDegreeName at 0x7fae3a4dd310>,\n",
       "        <grammar.education.EduDate at 0x7fae3a4dd550>,\n",
       "        <grammar.education.EduGPA at 0x7fae3a4dd5b0>]}]},\n",
       "    {'ExperienceSection': [{'Experience': [<grammar.experience.CompanyName at 0x7fae3a4dd700>,\n",
       "        <grammar.experience.JobTitle at 0x7fae3a4dd4f0>,\n",
       "        <grammar.experience.DateRange at 0x7fae3a4dd640>,\n",
       "        <grammar.head.GeographicalInfo at 0x7fae3a4dd790>,\n",
       "        {'ExperienceTasks': [<grammar.experience.ExperienceTask at 0x7fae3a4dd910>,\n",
       "          <grammar.experience.ExperienceTask at 0x7fae3a4dd8b0>,\n",
       "          <grammar.experience.ExperienceTask at 0x7fae3a4dd820>,\n",
       "          <grammar.experience.ExperienceTask at 0x7fae3a4dd9a0>]}]}]},\n",
       "    {'ProjectSection': [{'Project': [<grammar.project.ProjectDescription at 0x7fae3a4ddb80>,\n",
       "        <grammar.project.ProjectTools at 0x7fae3a4ddb20>,\n",
       "        <grammar.project.ProjectDate at 0x7fae3a4ddac0>,\n",
       "        {'ProjectAchievements': [<grammar.project.ProjectAchievementItem at 0x7fae3a4ddd30>,\n",
       "          <grammar.project.ProjectAchievementItem at 0x7fae3a4ddcd0>]}]},\n",
       "      {'Project': [<grammar.project.ProjectDescription at 0x7fae3a4dddc0>,\n",
       "        <grammar.project.ProjectTools at 0x7fae3a4ddc70>,\n",
       "        <grammar.project.ProjectDate at 0x7fae3a4ddd90>,\n",
       "        {'ProjectAchievements': [<grammar.project.ProjectAchievementItem at 0x7fae3a4ddf70>,\n",
       "          <grammar.project.ProjectAchievementItem at 0x7fae3a4ddf10>,\n",
       "          <grammar.project.ProjectAchievementItem at 0x7fae3a4ddeb0>]}]},\n",
       "      {'Project': [<grammar.project.ProjectDescription at 0x7fae3a4dde20>,\n",
       "        <grammar.project.ProjectTools at 0x7fae3a4e30d0>,\n",
       "        <grammar.project.ProjectDate at 0x7fae3a4e3070>,\n",
       "        {'ProjectAchievements': [<grammar.project.ProjectAchievementItem at 0x7fae3a4e3280>,\n",
       "          <grammar.project.ProjectAchievementItem at 0x7fae3a4e3220>,\n",
       "          <grammar.project.ProjectAchievementItem at 0x7fae3a4e31c0>]}]}]}]}]}"
      ]
     },
     "execution_count": 3,
     "metadata": {},
     "output_type": "execute_result"
    }
   ],
   "source": [
    "start.jsonify()"
   ]
  },
  {
   "cell_type": "code",
   "execution_count": null,
   "metadata": {},
   "outputs": [],
   "source": []
  }
 ],
 "metadata": {
  "kernelspec": {
   "display_name": "Python 3",
   "language": "python",
   "name": "python3"
  },
  "language_info": {
   "codemirror_mode": {
    "name": "ipython",
    "version": 3
   },
   "file_extension": ".py",
   "mimetype": "text/x-python",
   "name": "python",
   "nbconvert_exporter": "python",
   "pygments_lexer": "ipython3",
   "version": "3.9.13"
  }
 },
 "nbformat": 4,
 "nbformat_minor": 2
}
